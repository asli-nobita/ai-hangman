{
 "cells": [
  {
   "cell_type": "code",
   "execution_count": 2,
   "id": "8d26b0ea-f4b3-4929-9043-a919ddc4973c",
   "metadata": {},
   "outputs": [],
   "source": [
    "import random  \n",
    "import re \n",
    "from collections import defaultdict \n",
    "import sys \n",
    "import time "
   ]
  },
  {
   "cell_type": "code",
   "execution_count": 3,
   "id": "ae168818-c446-4ced-8a5d-27f5f76e5c7b",
   "metadata": {},
   "outputs": [],
   "source": [
    "# simulate hangman\n",
    "\n",
    "def generate_string(correct,guessed_letter,res): \n",
    "    guessed_correct = False\n",
    "    for i in range(len(correct)): \n",
    "        if correct[i]==guessed_letter: \n",
    "            res[i]=guessed_letter\n",
    "            guessed_correct = True\n",
    "    return guessed_correct\n",
    "\n",
    "def simulate_hangman(correct,guesses):\n",
    "    res = ['_']*len(correct)\n",
    "    guessed_correct = False\n",
    "    while guesses: \n",
    "        print('Word to guess: ',res) \n",
    "        guess = input('Enter guess: ') \n",
    "        if guess in res: \n",
    "            print('Letter already revealed. Enter a different one.')\n",
    "        guessed_correct_letter = generate_string(correct,guess,res)\n",
    "        if ''.join(res) == correct:\n",
    "            guessed_correct = True \n",
    "            break\n",
    "        if not guessed_correct_letter:\n",
    "            guesses -= 1\n",
    "        print('Guesses remaining: ',guesses)\n",
    "    print('Correct word: ',correct)\n",
    "    if guessed_correct: \n",
    "        print('Nice! You guessed correctly!')\n",
    "    else:\n",
    "        print('Oops! Better luck next time.') "
   ]
  },
  {
   "cell_type": "code",
   "execution_count": null,
   "id": "7503a471-480c-44d9-9105-e5394070ce07",
   "metadata": {},
   "outputs": [],
   "source": [
    "lexicon = [\"apple\", \"banana\", \"orange\", \"grape\", \"strawberry\", \"pineapple\", \"mango\", \"kiwi\"]\n",
    "correct = random.choice(lexicon)\n",
    "guesses = 5 \n",
    "\n",
    "simulate_hangman(correct,guesses)"
   ]
  },
  {
   "cell_type": "code",
   "execution_count": null,
   "id": "ad0b58a4-51dd-43dc-ac9d-5ab254797ab0",
   "metadata": {},
   "outputs": [],
   "source": [
    "# create letter frequency map \n",
    "letter_frequency = defaultdict(int)\n",
    "for word in lexicon: \n",
    "    for letter in word:\n",
    "        if('a' <= letter <= 'z'): \n",
    "            letter_frequency[letter] += 1"
   ]
  },
  {
   "cell_type": "code",
   "execution_count": null,
   "id": "281d90ba-db2d-4bd0-8d11-ed2aafe4a13c",
   "metadata": {},
   "outputs": [],
   "source": [
    "print('Letter frequencies:')\n",
    "for letter,count in sorted(letter_frequency.items(), key=lambda x:x[1],reverse=True): \n",
    "    print(f'{letter}: {count}')"
   ]
  },
  {
   "cell_type": "code",
   "execution_count": null,
   "id": "3b34b3a4-93c3-4018-ba69-a59d0010539b",
   "metadata": {},
   "outputs": [],
   "source": [
    "# Lets test hangman game on this newly created lexicon \n",
    "correct = random.choice(lexicon) \n",
    "guesses = 5 \n",
    "\n",
    "simulate_hangman(correct,guesses) "
   ]
  },
  {
   "cell_type": "markdown",
   "id": "b21434cc-4af4-456e-b051-b8f9e269fa3e",
   "metadata": {},
   "source": [
    "Okay, now on to the real stuff. \n",
    "First, we'll try the binary search approach. Each turn, our guess will be the letter which occurs in close to half of the possible words. \n",
    "Based on the outcome, we eliminate the other half, and consider all words which fit the outcome (like regex). "
   ]
  },
  {
   "cell_type": "code",
   "execution_count": null,
   "id": "77a32b25-c13d-4987-bb36-cf613afed511",
   "metadata": {},
   "outputs": [],
   "source": [
    "lexicon_size = len(lexicon)\n",
    "letter_frequency_fractions = {letter: count/lexicon_size for letter, count in letter_frequency.items()}\n",
    "\n",
    "print('Fraction of words containing a letter: ') \n",
    "for k,v in sorted(letter_frequency_fractions.items(),key=lambda x:x[1],reverse=True): \n",
    "    print(f'{k}: {v:.4f}')"
   ]
  },
  {
   "cell_type": "code",
   "execution_count": null,
   "id": "2df87e2f-c73e-4837-8974-71c6480e74b8",
   "metadata": {},
   "outputs": [],
   "source": [
    "# find letter frequencies after each guess \n",
    "def calculate_letter_frequencies(res,incorrect_guesses,lexicon): \n",
    "    letter_frequency = defaultdict(int)\n",
    "    \n",
    "    # create regex from res \n",
    "    regex = []\n",
    "    for char in res:\n",
    "        if char == '_':\n",
    "            if incorrect_guesses:\n",
    "                escaped_incorrect = ''.join(re.escape(g) for g in incorrect_guesses)\n",
    "                regex.append(f\"[^{escaped_incorrect}]\")\n",
    "            else:\n",
    "                regex.append('.')\n",
    "        else:\n",
    "            regex.append(re.escape(char))\n",
    "    regex = '^' + ''.join(regex) + '$'\n",
    "\n",
    "    # create letter frequency map out of possible words\n",
    "    lexicon_size = 0\n",
    "    for word in lexicon:\n",
    "        if re.fullmatch(regex,word): \n",
    "            for letter in word:\n",
    "                if('a' <= letter <= 'z'): \n",
    "                    letter_frequency[letter] += 1\n",
    "            lexicon_size += 1\n",
    "       \n",
    "    \n",
    "    # convert frequency to fraction\n",
    "    if lexicon_size > 0:\n",
    "        letter_frequency_fractions = {letter: count/lexicon_size for letter, count in letter_frequency.items()}\n",
    "    \n",
    "    return letter_frequency_fractions\n",
    "\n",
    "def guess(res,guessed_letters,incorrect_guesses,lexicon): \n",
    "    # based on res, update letter frequencies \n",
    "    letter_frequencies = calculate_letter_frequencies(res,incorrect_guesses,lexicon)\n",
    "    \n",
    "    # find the letter which has frequency closest to 0.5\n",
    "    max_diff = float('inf') \n",
    "    guessed_letter = 'a' # random guess\n",
    "    for letter in letter_frequencies: \n",
    "        # skip already guessed letters\n",
    "        if letter in guessed_letters: \n",
    "            continue\n",
    "        diff = abs(letter_frequencies[letter] - 0.5)\n",
    "        if diff < max_diff: \n",
    "            guessed_letter = letter \n",
    "            max_diff = diff\n",
    "\n",
    "    guessed_letters.append(guessed_letter)\n",
    "            \n",
    "    return guessed_letter\n",
    "\n",
    "def simulate_hangman_v2(correct,guesses): \n",
    "    res = ['_'] * len(correct) \n",
    "    guessed_letters = []\n",
    "    incorrect_guesses = []\n",
    "    guessed_correct = False\n",
    "    \n",
    "    print(f'You have {guesses} guesses. You will lose a guess each time you guess incorrectly.')\n",
    "    \n",
    "    while guesses: \n",
    "        print('Word to guess: ',res) \n",
    "        guessed_letter = guess(res,guessed_letters,incorrect_guesses,lexicon) \n",
    "        guessed_correct_letter = generate_string(correct,guessed_letter,res)\n",
    "        if ''.join(res) == correct:\n",
    "            guessed_correct = True \n",
    "            break\n",
    "        if not guessed_correct_letter:\n",
    "            incorrect_guesses.append(guessed_letter)\n",
    "            guesses -= 1\n",
    "        print('Guesses remaining: ',guesses)\n",
    "        \n",
    "    print('Correct word: ',correct)\n",
    "    \n",
    "    if guessed_correct: \n",
    "        print('Nice! You guessed correctly!')\n",
    "    else:\n",
    "        print('Oops! Better luck next time.') \n",
    "        \n",
    "    return guessed_correct"
   ]
  },
  {
   "cell_type": "code",
   "execution_count": null,
   "id": "1ce24ddd-4af4-4647-8e36-0513a18ae496",
   "metadata": {},
   "outputs": [],
   "source": [
    "correct = random.choice(lexicon)\n",
    "guesses = 5\n",
    "\n",
    "simulate_hangman_v2(correct,guesses)"
   ]
  }
 ],
 "metadata": {
  "kernelspec": {
   "display_name": "Python 3 (ipykernel)",
   "language": "python",
   "name": "python3"
  },
  "language_info": {
   "codemirror_mode": {
    "name": "ipython",
    "version": 3
   },
   "file_extension": ".py",
   "mimetype": "text/x-python",
   "name": "python",
   "nbconvert_exporter": "python",
   "pygments_lexer": "ipython3",
   "version": "3.11.9"
  }
 },
 "nbformat": 4,
 "nbformat_minor": 5
}
