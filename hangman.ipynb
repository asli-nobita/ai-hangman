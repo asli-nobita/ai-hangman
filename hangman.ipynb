{
 "cells": [
  {
   "cell_type": "code",
   "execution_count": 42,
   "id": "4503afcc-bf78-4177-99e2-6526d973542a",
   "metadata": {},
   "outputs": [],
   "source": [
    "import random # for choosing random word from lexicon\n",
    "from collections import defaultdict # for creating letter frequency maps\n",
    "import re # for regex"
   ]
  },
  {
   "cell_type": "code",
   "execution_count": 33,
   "id": "351ab0ef-14c9-40a0-be64-89b8dfea9f6c",
   "metadata": {},
   "outputs": [],
   "source": [
    "# Simulate hangman \n",
    "\n",
    "def generate_string(correct,guessed_letter,res): \n",
    "    guessed_correct = False\n",
    "    for i in range(len(correct)): \n",
    "        if correct[i]==guessed_letter: \n",
    "            res[i]=guessed_letter\n",
    "            guessed_correct = True\n",
    "    return guessed_correct\n",
    "\n",
    "def simulate_hangman(correct,guesses):\n",
    "    res = ['_']*len(correct)\n",
    "    guessed_correct = False\n",
    "    while guesses: \n",
    "        print('Word to guess: ',res) \n",
    "        guess = input('Enter guess: ') \n",
    "        if guess in res: \n",
    "            print('Letter already revealed. Enter a different one.')\n",
    "        guessed_correct_letter = generate_string(correct,guess,res)\n",
    "        if ''.join(res) == correct:\n",
    "            guessed_correct = True \n",
    "            break\n",
    "        if not guessed_correct_letter:\n",
    "            guesses -= 1\n",
    "        print('Guesses remaining: ',guesses)\n",
    "    print('Correct word: ',correct)\n",
    "    if guessed_correct: \n",
    "        print('Nice! You guessed correctly!')\n",
    "    else:\n",
    "        print('Oops! Better luck next time.') "
   ]
  },
  {
   "cell_type": "code",
   "execution_count": 9,
   "id": "d4b2fd82-7ed6-4e16-a006-e25a5295ce15",
   "metadata": {},
   "outputs": [
    {
     "name": "stdout",
     "output_type": "stream",
     "text": [
      "Word to guess:  ['_', '_', '_', '_', '_']\n"
     ]
    },
    {
     "name": "stdin",
     "output_type": "stream",
     "text": [
      "Enter guess:  a\n"
     ]
    },
    {
     "name": "stdout",
     "output_type": "stream",
     "text": [
      "Word to guess:  ['_', '_', 'a', '_', '_']\n"
     ]
    },
    {
     "name": "stdin",
     "output_type": "stream",
     "text": [
      "Enter guess:  g\n"
     ]
    },
    {
     "name": "stdout",
     "output_type": "stream",
     "text": [
      "Word to guess:  ['g', '_', 'a', '_', '_']\n"
     ]
    },
    {
     "name": "stdin",
     "output_type": "stream",
     "text": [
      "Enter guess:  p\n"
     ]
    },
    {
     "name": "stdout",
     "output_type": "stream",
     "text": [
      "Word to guess:  ['g', '_', 'a', 'p', '_']\n"
     ]
    },
    {
     "name": "stdin",
     "output_type": "stream",
     "text": [
      "Enter guess:  r\n"
     ]
    },
    {
     "name": "stdout",
     "output_type": "stream",
     "text": [
      "Word to guess:  ['g', 'r', 'a', 'p', '_']\n"
     ]
    },
    {
     "name": "stdin",
     "output_type": "stream",
     "text": [
      "Enter guess:  e\n"
     ]
    },
    {
     "name": "stdout",
     "output_type": "stream",
     "text": [
      "Correct word:  grape\n",
      "Nice! You guessed correctly!\n"
     ]
    }
   ],
   "source": [
    "lexicon = [\"apple\", \"banana\", \"orange\", \"grape\", \"strawberry\", \"pineapple\", \"mango\", \"kiwi\"]\n",
    "correct = random.choice(lexicon)\n",
    "guesses = 5 \n",
    "\n",
    "simulate_hangman(correct,guesses)"
   ]
  },
  {
   "cell_type": "code",
   "execution_count": 11,
   "id": "89f1ec28-59fb-44b8-aa96-04ec3e6cad2f",
   "metadata": {},
   "outputs": [
    {
     "name": "stdout",
     "output_type": "stream",
     "text": [
      "Lexicon created successfully. Number of words in lexicon:  5757\n"
     ]
    }
   ],
   "source": [
    "# lexicon of five letter English words\n",
    "lexicon = []\n",
    "\n",
    "with open('./words.txt') as f: \n",
    "    try:\n",
    "        for line in f:\n",
    "            word = line.strip().lower() \n",
    "            lexicon.append(word)\n",
    "    except FileNotFoundError:\n",
    "        print('ERROR: File not found.')\n",
    "\n",
    "print('Lexicon created successfully. Number of words in lexicon: ',len(lexicon))"
   ]
  },
  {
   "cell_type": "code",
   "execution_count": 26,
   "id": "56242c88-2d4d-4082-870f-8bf2e3fbce53",
   "metadata": {},
   "outputs": [],
   "source": [
    "# create letter frequency map \n",
    "letter_frequency = defaultdict(int)\n",
    "for word in lexicon: \n",
    "    for letter in word:\n",
    "        if('a' <= letter <= 'z'): \n",
    "            letter_frequency[letter] += 1"
   ]
  },
  {
   "cell_type": "code",
   "execution_count": 29,
   "id": "d6717082-2e77-44d5-926d-e0376aa86a16",
   "metadata": {},
   "outputs": [
    {
     "name": "stdout",
     "output_type": "stream",
     "text": [
      "Letter frequencies:\n",
      "s: 3033\n",
      "e: 3009\n",
      "a: 2348\n",
      "o: 1915\n",
      "r: 1910\n",
      "i: 1592\n",
      "l: 1586\n",
      "t: 1585\n",
      "n: 1285\n",
      "d: 1181\n",
      "u: 1089\n",
      "c: 964\n",
      "p: 955\n",
      "y: 886\n",
      "m: 843\n",
      "h: 814\n",
      "b: 715\n",
      "g: 679\n",
      "k: 596\n",
      "f: 561\n",
      "w: 505\n",
      "v: 318\n",
      "x: 139\n",
      "z: 135\n",
      "j: 89\n",
      "q: 53\n"
     ]
    }
   ],
   "source": [
    "print('Letter frequencies:')\n",
    "for letter,count in sorted(letter_frequency.items(), key=lambda x:x[1],reverse=True): \n",
    "    print(f'{letter}: {count}')"
   ]
  },
  {
   "cell_type": "code",
   "execution_count": 34,
   "id": "d6de925c-9a09-4fb4-9980-5abaf431febc",
   "metadata": {},
   "outputs": [
    {
     "name": "stdout",
     "output_type": "stream",
     "text": [
      "Word to guess:  ['_', '_', '_', '_', '_']\n"
     ]
    },
    {
     "name": "stdin",
     "output_type": "stream",
     "text": [
      "Enter guess:  s\n"
     ]
    },
    {
     "name": "stdout",
     "output_type": "stream",
     "text": [
      "Guesses remaining:  5\n",
      "Word to guess:  ['_', '_', '_', '_', 's']\n"
     ]
    },
    {
     "name": "stdin",
     "output_type": "stream",
     "text": [
      "Enter guess:  r\n"
     ]
    },
    {
     "name": "stdout",
     "output_type": "stream",
     "text": [
      "Guesses remaining:  5\n",
      "Word to guess:  ['_', '_', 'r', '_', 's']\n"
     ]
    },
    {
     "name": "stdin",
     "output_type": "stream",
     "text": [
      "Enter guess:  o\n"
     ]
    },
    {
     "name": "stdout",
     "output_type": "stream",
     "text": [
      "Guesses remaining:  4\n",
      "Word to guess:  ['_', '_', 'r', '_', 's']\n"
     ]
    },
    {
     "name": "stdin",
     "output_type": "stream",
     "text": [
      "Enter guess:  a\n"
     ]
    },
    {
     "name": "stdout",
     "output_type": "stream",
     "text": [
      "Guesses remaining:  3\n",
      "Word to guess:  ['_', '_', 'r', '_', 's']\n"
     ]
    },
    {
     "name": "stdin",
     "output_type": "stream",
     "text": [
      "Enter guess:  g\n"
     ]
    },
    {
     "name": "stdout",
     "output_type": "stream",
     "text": [
      "Guesses remaining:  2\n",
      "Word to guess:  ['_', '_', 'r', '_', 's']\n"
     ]
    },
    {
     "name": "stdin",
     "output_type": "stream",
     "text": [
      "Enter guess:  m\n"
     ]
    },
    {
     "name": "stdout",
     "output_type": "stream",
     "text": [
      "Guesses remaining:  1\n",
      "Word to guess:  ['_', '_', 'r', '_', 's']\n"
     ]
    },
    {
     "name": "stdin",
     "output_type": "stream",
     "text": [
      "Enter guess:  k\n"
     ]
    },
    {
     "name": "stdout",
     "output_type": "stream",
     "text": [
      "Guesses remaining:  0\n",
      "Correct word:  dirts\n",
      "Oops! Better luck next time.\n"
     ]
    }
   ],
   "source": [
    "# Lets test hangman game on this newly created lexicon \n",
    "correct = random.choice(lexicon) \n",
    "guesses = 5 \n",
    "\n",
    "simulate_hangman(correct,guesses) "
   ]
  },
  {
   "cell_type": "markdown",
   "id": "ee5f1707-4846-4eb3-a43c-79e6f9303c54",
   "metadata": {},
   "source": [
    "Okay, now on to the real stuff. \n",
    "First, we'll try the binary search approach. Each turn, our guess will be the letter which occurs in close to half of the possible words. \n",
    "Based on the outcome, we eliminate the other half, and consider all words which fit the outcome (like regex). "
   ]
  },
  {
   "cell_type": "code",
   "execution_count": 40,
   "id": "aa0d5c73-d05c-4189-8281-4dd7e94cd5cc",
   "metadata": {},
   "outputs": [
    {
     "name": "stdout",
     "output_type": "stream",
     "text": [
      "Fraction of words containing a letter: \n",
      "s: 0.5268\n",
      "e: 0.5227\n",
      "a: 0.4079\n",
      "o: 0.3326\n",
      "r: 0.3318\n",
      "i: 0.2765\n",
      "l: 0.2755\n",
      "t: 0.2753\n",
      "n: 0.2232\n",
      "d: 0.2051\n",
      "u: 0.1892\n",
      "c: 0.1674\n",
      "p: 0.1659\n",
      "y: 0.1539\n",
      "m: 0.1464\n",
      "h: 0.1414\n",
      "b: 0.1242\n",
      "g: 0.1179\n",
      "k: 0.1035\n",
      "f: 0.0974\n",
      "w: 0.0877\n",
      "v: 0.0552\n",
      "x: 0.0241\n",
      "z: 0.0234\n",
      "j: 0.0155\n",
      "q: 0.0092\n"
     ]
    }
   ],
   "source": [
    "lexicon_size = len(lexicon)\n",
    "letter_frequency_fractions = {letter: count/lexicon_size for letter, count in letter_frequency.items()}\n",
    "\n",
    "print('Fraction of words containing a letter: ') \n",
    "for k,v in sorted(letter_frequency_fractions.items(),key=lambda x:x[1],reverse=True): \n",
    "    print(f'{k}: {v:.4f}')"
   ]
  },
  {
   "cell_type": "code",
   "execution_count": 50,
   "id": "a4537b91-2fc0-4840-8625-4489d7bd35c0",
   "metadata": {},
   "outputs": [],
   "source": [
    "# find letter frequencies after each guess \n",
    "def calculate_letter_frequencies(res,incorrect_guesses,lexicon): \n",
    "    letter_frequency = defaultdict(int)\n",
    "    \n",
    "    # create regex from res \n",
    "    regex = []\n",
    "    for char in res:\n",
    "        if char == '_':\n",
    "            if incorrect_guesses:\n",
    "                escaped_incorrect = ''.join(re.escape(g) for g in incorrect_guesses)\n",
    "                regex.append(f\"[^{escaped_incorrect}]\")\n",
    "            else:\n",
    "                regex.append('.')\n",
    "        else:\n",
    "            regex.append(re.escape(char))\n",
    "    regex = '^' + ''.join(regex) + '$'\n",
    "\n",
    "    # create letter frequency map out of possible words\n",
    "    lexicon_size = 0\n",
    "    for word in lexicon:\n",
    "        if re.fullmatch(regex,word): \n",
    "            for letter in word:\n",
    "                if('a' <= letter <= 'z'): \n",
    "                    letter_frequency[letter] += 1\n",
    "            lexicon_size += 1\n",
    "       \n",
    "    \n",
    "    # convert frequency to fraction\n",
    "    if lexicon_size > 0:\n",
    "        letter_frequency_fractions = {letter: count/lexicon_size for letter, count in letter_frequency.items()}\n",
    "    \n",
    "    return letter_frequency"
   ]
  },
  {
   "cell_type": "code",
   "execution_count": 51,
   "id": "ad41ef53-5a63-47d5-8baf-381e181ac650",
   "metadata": {},
   "outputs": [],
   "source": [
    "def guess(res,guessed_letters,incorrect_guesses,lexicon): \n",
    "    # based on res, update letter frequencies \n",
    "    letter_frequencies = calculate_letter_frequencies(res,incorrect_guesses,lexicon)\n",
    "    \n",
    "    # find the letter which has frequency closest to 0.5\n",
    "    max_diff = 0.5 \n",
    "    guessed_letter = 'a' # random guess\n",
    "    for letter in letter_frequencies: \n",
    "        # skip already guessed letters\n",
    "        if letter in guessed_letters: \n",
    "            continue\n",
    "        diff = abs(letter_frequencies[letter] - 0.5)\n",
    "        if diff < max_diff: \n",
    "            guessed_letter = letter \n",
    "            max_diff = diff\n",
    "\n",
    "    guessed_letters.append(guessed_letter)\n",
    "            \n",
    "    return guessed_letter"
   ]
  },
  {
   "cell_type": "code",
   "execution_count": 54,
   "id": "64a8084e-73af-420b-a078-3bc2cc87ce5f",
   "metadata": {},
   "outputs": [],
   "source": [
    "def simulate_hangman_v2(correct,guesses): \n",
    "    res = ['_'] * len(correct) \n",
    "    guessed_letters = []\n",
    "    incorrect_guesses = []\n",
    "    guessed_correct = False\n",
    "    \n",
    "    print(f'You have {guesses} guesses. You will lose a guess each time you guess incorrectly.')\n",
    "    \n",
    "    while guesses: \n",
    "        print('Word to guess: ',res) \n",
    "        guessed_letter = guess(res,guessed_letters,incorrect_guesses,lexicon) \n",
    "        guessed_correct_letter = generate_string(correct,guess,res)\n",
    "        if ''.join(res) == correct:\n",
    "            guessed_correct = True \n",
    "            break\n",
    "        if not guessed_correct_letter:\n",
    "            incorrect_guesses.append(guessed_letter)\n",
    "            guesses -= 1\n",
    "        print('Guesses remaining: ',guesses)\n",
    "        \n",
    "    print('Correct word: ',correct)\n",
    "    \n",
    "    if guessed_correct: \n",
    "        print('Nice! You guessed correctly!')\n",
    "    else:\n",
    "        print('Oops! Better luck next time.') "
   ]
  },
  {
   "cell_type": "code",
   "execution_count": 55,
   "id": "2a24cd5f-6c5e-43a3-965c-6b686c0afd0b",
   "metadata": {},
   "outputs": [
    {
     "name": "stdout",
     "output_type": "stream",
     "text": [
      "You have 5 guesses. You will lose a guess each time you guess incorrectly.\n",
      "Word to guess:  ['_', '_', '_', '_', '_']\n",
      "Guesses remaining:  4\n",
      "Word to guess:  ['_', '_', '_', '_', '_']\n",
      "Guesses remaining:  3\n",
      "Word to guess:  ['_', '_', '_', '_', '_']\n",
      "Guesses remaining:  2\n",
      "Word to guess:  ['_', '_', '_', '_', '_']\n",
      "Guesses remaining:  1\n",
      "Word to guess:  ['_', '_', '_', '_', '_']\n",
      "Guesses remaining:  0\n",
      "Correct word:  selah\n",
      "Oops! Better luck next time.\n"
     ]
    }
   ],
   "source": [
    "correct = random.choice(lexicon)\n",
    "guesses = 5\n",
    "\n",
    "simulate_hangman_v2(correct,guesses)"
   ]
  },
  {
   "cell_type": "code",
   "execution_count": null,
   "id": "07938301-ebb4-4357-8eaf-8038c4c6a599",
   "metadata": {},
   "outputs": [],
   "source": []
  }
 ],
 "metadata": {
  "kernelspec": {
   "display_name": "Python 3 (ipykernel)",
   "language": "python",
   "name": "python3"
  },
  "language_info": {
   "codemirror_mode": {
    "name": "ipython",
    "version": 3
   },
   "file_extension": ".py",
   "mimetype": "text/x-python",
   "name": "python",
   "nbconvert_exporter": "python",
   "pygments_lexer": "ipython3",
   "version": "3.11.9"
  }
 },
 "nbformat": 4,
 "nbformat_minor": 5
}
