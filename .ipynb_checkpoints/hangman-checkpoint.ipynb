{
 "cells": [
  {
   "cell_type": "code",
   "execution_count": 22,
   "id": "4503afcc-bf78-4177-99e2-6526d973542a",
   "metadata": {},
   "outputs": [],
   "source": [
    "import random # for choosing random word from lexicon\n",
    "from collections import defaultdict # for creating letter frequency maps\n",
    "import re # for regex"
   ]
  },
  {
   "cell_type": "code",
   "execution_count": 36,
   "id": "351ab0ef-14c9-40a0-be64-89b8dfea9f6c",
   "metadata": {},
   "outputs": [],
   "source": [
    "def generate_string(correct,guessed_letter,res): \n",
    "    guessed_correct = False\n",
    "    for i in range(len(correct)): \n",
    "        if correct[i]==guessed_letter: \n",
    "            res[i]=guessed_letter\n",
    "            guessed_correct = True\n",
    "    return guessed_correct\n"
   ]
  },
  {
   "cell_type": "code",
   "execution_count": 24,
   "id": "89f1ec28-59fb-44b8-aa96-04ec3e6cad2f",
   "metadata": {},
   "outputs": [
    {
     "name": "stdout",
     "output_type": "stream",
     "text": [
      "Lexicon created successfully. Number of words in lexicon:  5757\n"
     ]
    }
   ],
   "source": [
    "# lexicon of five letter English words\n",
    "lexicon = []\n",
    "\n",
    "with open('./words.txt') as f: \n",
    "    try:\n",
    "        for line in f:\n",
    "            word = line.strip().lower() \n",
    "            lexicon.append(word)\n",
    "    except FileNotFoundError:\n",
    "        print('ERROR: File not found.')\n",
    "\n",
    "print('Lexicon created successfully. Number of words in lexicon: ',len(lexicon))"
   ]
  },
  {
   "cell_type": "markdown",
   "id": "ee5f1707-4846-4eb3-a43c-79e6f9303c54",
   "metadata": {},
   "source": [
    "Okay, now on to the real stuff. \n",
    "First, we'll try the binary search approach. Each turn, our guess will be the letter which occurs in close to half of the possible words. \n",
    "Based on the outcome, we eliminate the other half, and consider all words which fit the outcome (like regex). "
   ]
  },
  {
   "cell_type": "code",
   "execution_count": 25,
   "id": "a4537b91-2fc0-4840-8625-4489d7bd35c0",
   "metadata": {},
   "outputs": [],
   "source": [
    "# find letter frequencies after each guess \n",
    "def calculate_letter_frequencies(res,incorrect_guesses,lexicon): \n",
    "    letter_frequency = defaultdict(int)\n",
    "    \n",
    "    # create regex from res \n",
    "    regex = []\n",
    "    for char in res:\n",
    "        if char == '_':\n",
    "            if incorrect_guesses:\n",
    "                escaped_incorrect = ''.join(re.escape(g) for g in incorrect_guesses)\n",
    "                regex.append(f\"[^{escaped_incorrect}]\")\n",
    "            else:\n",
    "                regex.append('.')\n",
    "        else:\n",
    "            regex.append(re.escape(char))\n",
    "    regex = '^' + ''.join(regex) + '$'\n",
    "\n",
    "    # create letter frequency map out of possible words\n",
    "    lexicon_size = 0\n",
    "    for word in lexicon:\n",
    "        if re.fullmatch(regex,word): \n",
    "            for letter in word:\n",
    "                if('a' <= letter <= 'z'): \n",
    "                    letter_frequency[letter] += 1\n",
    "            lexicon_size += 1\n",
    "       \n",
    "    \n",
    "    # convert frequency to fraction\n",
    "    if lexicon_size > 0:\n",
    "        letter_frequency_fractions = {letter: count/lexicon_size for letter, count in letter_frequency.items()}\n",
    "    \n",
    "    return letter_frequency_fractions"
   ]
  },
  {
   "cell_type": "code",
   "execution_count": 26,
   "id": "ad41ef53-5a63-47d5-8baf-381e181ac650",
   "metadata": {},
   "outputs": [],
   "source": [
    "def guess(res,guessed_letters,incorrect_guesses,lexicon): \n",
    "    # based on res, update letter frequencies \n",
    "    letter_frequencies = calculate_letter_frequencies(res,incorrect_guesses,lexicon)\n",
    "    \n",
    "    # find the letter which has frequency closest to 0.5\n",
    "    max_diff = float('inf') \n",
    "    guessed_letter = 'a' # random guess\n",
    "    for letter in letter_frequencies: \n",
    "        # skip already guessed letters\n",
    "        if letter in guessed_letters: \n",
    "            continue\n",
    "        diff = abs(letter_frequencies[letter] - 0.5)\n",
    "        if diff < max_diff: \n",
    "            guessed_letter = letter \n",
    "            max_diff = diff\n",
    "\n",
    "    guessed_letters.append(guessed_letter)\n",
    "            \n",
    "    return guessed_letter"
   ]
  },
  {
   "cell_type": "code",
   "execution_count": 29,
   "id": "64a8084e-73af-420b-a078-3bc2cc87ce5f",
   "metadata": {},
   "outputs": [],
   "source": [
    "def simulate_hangman_v2(correct,guesses): \n",
    "    res = ['_'] * len(correct) \n",
    "    guessed_letters = []\n",
    "    incorrect_guesses = []\n",
    "    guessed_correct = False\n",
    "    \n",
    "    # print(f'You have {guesses} guesses. You will lose a guess each time you guess incorrectly.')\n",
    "    \n",
    "    while guesses: \n",
    "        # print('Word to guess: ',res) \n",
    "        guessed_letter = guess(res,guessed_letters,incorrect_guesses,lexicon) \n",
    "        guessed_correct_letter = generate_string(correct,guessed_letter,res)\n",
    "        if ''.join(res) == correct:\n",
    "            guessed_correct = True \n",
    "            break\n",
    "        if not guessed_correct_letter:\n",
    "            incorrect_guesses.append(guessed_letter)\n",
    "            guesses -= 1\n",
    "        # print('Guesses remaining: ',guesses)\n",
    "        \n",
    "    # print('Correct word: ',correct)\n",
    "    \n",
    "    # if guessed_correct: \n",
    "    #     print('Nice! You guessed correctly!')\n",
    "    # else:\n",
    "    #     print('Oops! Better luck next time.') \n",
    "        \n",
    "    return guessed_correct"
   ]
  },
  {
   "cell_type": "code",
   "execution_count": 35,
   "id": "07938301-ebb4-4357-8eaf-8038c4c6a599",
   "metadata": {},
   "outputs": [
    {
     "name": "stdout",
     "output_type": "stream",
     "text": [
      "Games played: 5000 | Wins: 2252 | Accuracy: 0.4504\n",
      "Final accuracy after 5000 games: 0.4504\n"
     ]
    }
   ],
   "source": [
    "# simulate 5000 games and calculate accuracy \n",
    "import random\n",
    "import sys\n",
    "import time\n",
    "\n",
    "games = 5000 \n",
    "wins = 0 \n",
    "\n",
    "for game in range(games): \n",
    "    word = random.choice(lexicon)\n",
    "    guesses = 5\n",
    "    if(simulate_hangman_v2(word,guesses) == True): \n",
    "        wins += 1 \n",
    "    \n",
    "    sys.stdout.write(f'\\rGames played: {game+1} | Wins: {wins} | Accuracy: {(wins/games):.4f}')\n",
    "    sys.stdout.flush()\n",
    "    \n",
    "    time.sleep(0.1)\n",
    "\n",
    "accuracy = wins/games \n",
    "\n",
    "print(f'\\nFinal accuracy after {games} games: {accuracy:.4f}')"
   ]
  },
  {
   "cell_type": "code",
   "execution_count": null,
   "id": "51d7137d",
   "metadata": {},
   "outputs": [],
   "source": []
  }
 ],
 "metadata": {
  "kernelspec": {
   "display_name": "Python 3 (ipykernel)",
   "language": "python",
   "name": "python3"
  },
  "language_info": {
   "codemirror_mode": {
    "name": "ipython",
    "version": 3
   },
   "file_extension": ".py",
   "mimetype": "text/x-python",
   "name": "python",
   "nbconvert_exporter": "python",
   "pygments_lexer": "ipython3",
   "version": "3.11.9"
  }
 },
 "nbformat": 4,
 "nbformat_minor": 5
}
